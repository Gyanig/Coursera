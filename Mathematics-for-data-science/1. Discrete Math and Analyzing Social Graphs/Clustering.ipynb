{
 "cells": [
  {
   "cell_type": "code",
   "execution_count": 2,
   "metadata": {},
   "outputs": [
    {
     "name": "stdout",
     "output_type": "stream",
     "text": [
      "0.6055467186200876\n",
      "0.010807002914333782\n"
     ]
    }
   ],
   "source": [
    "import networkx as nx;\n",
    "from random import random;\n",
    "\n",
    "# Read data from the dataset, and create graph G_fb\n",
    "G_fb = nx.read_edgelist(\"facebook_combined.txt\", create_using = nx.Graph(), nodetype=int);\n",
    "\n",
    "# Show the number of edges in G_fb\n",
    "# print(\"edges = \" + str(G_fb.number_of_edges()));\n",
    "\n",
    "# Show number of nodes in G_fb\n",
    "# print(\"nodes = \" + str(G_fb.number_of_nodes()));\n",
    "\n",
    "# TASK1. Now your task is to compute the probability whether there is an edge between two vertices.\n",
    "n=G_fb.number_of_nodes()\n",
    "total_nodes=n*(n-1)/2\n",
    "total_edges=G_fb.number_of_edges()\n",
    "edge_probab=total_edges/total_nodes \n",
    "\n",
    "# print(\"Edge probability= \"+str(edge_probab))\n",
    "\n",
    "# nx.draw(G_fb)\n",
    "# TASK2. Compute the ACC (average clustering coefficient) of G_fb\n",
    "# (consult the NetworkX manual or the video lecture for the correct function which does it)\n",
    "av_clust_coeff1 = nx.average_clustering(G_fb)\n",
    "print(av_clust_coeff1)\n",
    "\n",
    "k=n\n",
    "# Now we have to generate a random graph. First we initialize it\n",
    "\n",
    "# G_rand = nx.fast_gnp_random_graph(k,p=edge_probab,seed=None, directed=False)\n",
    "\n",
    "G_rand = nx.erdos_renyi_graph(n,edge_probab,seed=None,directed=False)\n",
    "\n",
    "# TASK3. generate edges in G_rand at random:\n",
    "# for i in range(0,n) :\n",
    "#     for j in range(0,i) : \n",
    "#         # Add an edge between vertices i and j, with probability edge_probab (as in G_fb)\n",
    "#         G_rand.add_edge(i,j)\n",
    "        \n",
    "       \n",
    "        \n",
    "# Now we print out the number of edges and the ACC of the new graph\n",
    "# print(\"rgraph_edges = \" + str(G_rand.number_of_edges()))\n",
    "\n",
    "av_clust_coeff2 = nx.average_clustering(G_rand)\n",
    "\n",
    "print(av_clust_coeff2);\n",
    "\n",
    "# The results which should be submitted to the grader include the ACC of G_fb and of G_rand. Good luck!\n"
   ]
  },
  {
   "cell_type": "code",
   "execution_count": 2,
   "metadata": {},
   "outputs": [
    {
     "name": "stdout",
     "output_type": "stream",
     "text": [
      "edges = 88234\n",
      "nodes = 4039\n",
      "graph_acc = 0.6055467186200876\n"
     ]
    }
   ],
   "source": [
    "import networkx as nx;\n",
    "from random import random;\n",
    "\n",
    "# Read data from the dataset, and create graph G_fb\n",
    "G_fb = nx.read_edgelist(\"facebook_combined.txt\", create_using = nx.Graph(), nodetype=int);\n",
    "\n",
    "# Show the number of edges in G_fb\n",
    "print(\"edges = \"+str(G_fb.number_of_edges()));\n",
    "\n",
    "# Show number of nodes in G_fb\n",
    "print(\"nodes = \"+str(G_fb.number_of_nodes()));\n",
    "\n",
    "# TASK1. Now your task is to compute the probability whether there is an edge between two vertices.\n",
    "n=G_fb.number_of_nodes()\n",
    "total_nodes=(n*(n-1))/2\n",
    "total_edges=G_fb.number_of_edges()\n",
    "edge_probab=total_edges/total_nodes \n",
    "\n",
    "acc=nx.average_clustering(G_fb)\n",
    "print(\"graph_acc = \"+ str(acc))"
   ]
  },
  {
   "cell_type": "code",
   "execution_count": null,
   "metadata": {},
   "outputs": [],
   "source": [
    "import networkx as nx;\n",
    "from random import random;\n",
    "\n",
    "# Read data from the dataset, and create graph G_fb\n",
    "G_fb = nx.read_edgelist(\"facebook_combined.txt\", create_using = nx.Graph(), nodetype=int);\n",
    "\n",
    "# TASK2. Compute the ACC (average clustering coefficient) of G_fb\n",
    "# (consult the NetworkX manual or the video lecture for the correct function which does it)\n",
    "av_clust_coeff = nx.average_clustering(G_fb)\n",
    "\n",
    "# Now we have to generate a random graph. First we initialize it\n",
    "G_rand = nx.Graph();\n",
    "\n",
    "k=G_fb.number_of_nodes()\n",
    "\n",
    "# TASK3. generate edges in G_rand at random:\n",
    "# for i in range(0,k) :\n",
    "#     for j in range(0,i) : \n",
    "#         # Add an edge between vertices i and j, with probability edge_probab (as in G_fb)\n",
    "#         G_rand.add_edge(i,j,weight=edge_probab)\n",
    "        \n",
    "        \n",
    "# Now we print out the number of edges and the ACC of the new graph\n",
    "print(\"rgraph_edges = \" + str(G_rand.number_of_edges()))\n",
    "\n",
    "av_clust_coeff = nx.average_clustering(G_rand)\n",
    "\n",
    "print(\"rgraph_acc = \" + str(av_clust_coeff));\n",
    "\n",
    "# The results which should be submitted to the grader include the ACC of G_fb and of G_rand. Good luck!"
   ]
  },
  {
   "cell_type": "code",
   "execution_count": null,
   "metadata": {},
   "outputs": [],
   "source": [
    "import networkx as nx;\n",
    "from random import random;\n",
    "\n",
    "# Read data from the dataset, and create graph G_fb\n",
    "G_fb = nx.read_edgelist(\"facebook_combined.txt\", create_using = nx.Graph(), nodetype=int);\n",
    "\n",
    "# Now we have to generate a random graph. First we initialize it\n",
    "\n",
    "# G_rand = nx.Graph();\n",
    "\n",
    "node=G_fb.number_of_nodes()\n",
    "edges=G_fb.number_of_edges()\n",
    "edge_probab=edges/(node*(node-1)/2) \n",
    "\n",
    "k=edges;\n",
    "\n",
    "# TASK3. generate edges in G_rand at random:\n",
    "\n",
    "G_rand = nx.erdos_renyi_graph(k,edge_probab, seed=None, directed=False)\n",
    "\n",
    "# Now we print out the number of edges and the ACC of the new graph\n",
    "\n",
    "print(\"rgraph_edges = \" + str(G_rand.number_of_edges()));\n",
    "\n",
    "print(\"rgraph_edges = \" + str(G_rand.number_of_nodes()));\n",
    "\n",
    "av_clust_coeff=nx.average_clustering(G_rand)\n",
    "\n",
    "print(\"rgraph_acc = \" + str(av_clust_coeff));\n",
    "\n",
    "# The results which should be submitted to the grader include the ACC of G_fb and of G_rand. Good l"
   ]
  },
  {
   "cell_type": "code",
   "execution_count": null,
   "metadata": {},
   "outputs": [],
   "source": [
    "edges = 88234\n",
    "nodes = 4039\n",
    "graph_acc = 0.6055467186200876\n",
    "\n",
    "rgraph_edges = 88115\n",
    "rgraph_edges = 4039\n",
    "rgraph_acc = 0.01075447654824412"
   ]
  }
 ],
 "metadata": {
  "kernelspec": {
   "display_name": "Python 3",
   "language": "python",
   "name": "python3"
  },
  "language_info": {
   "codemirror_mode": {
    "name": "ipython",
    "version": 3
   },
   "file_extension": ".py",
   "mimetype": "text/x-python",
   "name": "python",
   "nbconvert_exporter": "python",
   "pygments_lexer": "ipython3",
   "version": "3.7.1"
  }
 },
 "nbformat": 4,
 "nbformat_minor": 2
}
